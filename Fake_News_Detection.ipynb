{
  "nbformat": 4,
  "nbformat_minor": 0,
  "metadata": {
    "colab": {
      "provenance": []
    },
    "kernelspec": {
      "name": "python3",
      "display_name": "Python 3"
    },
    "language_info": {
      "name": "python"
    }
  },
  "cells": [
    {
      "cell_type": "code",
      "source": [
        "!mkdir -p ~/.kaggle\n",
        "!cp kaggle.json ~/.kaggle/"
      ],
      "metadata": {
        "id": "rZuWFcb9dK5X"
      },
      "execution_count": 1,
      "outputs": []
    },
    {
      "cell_type": "code",
      "source": [
        "!kaggle datasets download -d saurabhshahane/fake-news-classification"
      ],
      "metadata": {
        "colab": {
          "base_uri": "https://localhost:8080/"
        },
        "id": "m-4po50TfuAu",
        "outputId": "87ef2ed3-f504-4adc-beeb-62a43ea77391"
      },
      "execution_count": 2,
      "outputs": [
        {
          "output_type": "stream",
          "name": "stdout",
          "text": [
            "fake-news-classification.zip: Skipping, found more recently modified local copy (use --force to force download)\n"
          ]
        }
      ]
    },
    {
      "cell_type": "code",
      "source": [
        "import zipfile\n",
        "zipfile_ref = zipfile.ZipFile(\"/content/fake-news-classification.zip\",'r')\n",
        "zipfile_ref.extractall(\"/content\")\n",
        "zipfile_ref.close()"
      ],
      "metadata": {
        "id": "SUV3iQZTfxiV"
      },
      "execution_count": 3,
      "outputs": []
    },
    {
      "cell_type": "code",
      "source": [
        "import numpy as np\n",
        "import pandas as pd\n",
        "import re\n",
        "from nltk.stem.porter import PorterStemmer\n",
        "from nltk.corpus import stopwords\n",
        "from sklearn.feature_extraction.text import TfidfVectorizer\n",
        "from sklearn.model_selection import train_test_split\n",
        "from sklearn.linear_model import LogisticRegression\n",
        "from sklearn.metrics import accuracy_score"
      ],
      "metadata": {
        "id": "KIy7kTHgf9Ob"
      },
      "execution_count": 4,
      "outputs": []
    },
    {
      "cell_type": "code",
      "source": [
        "import nltk\n",
        "nltk.download(\"stopwords\")"
      ],
      "metadata": {
        "colab": {
          "base_uri": "https://localhost:8080/"
        },
        "id": "588wNE81h9nm",
        "outputId": "531dbeb0-4785-4f76-de3d-90da9ba21472"
      },
      "execution_count": 5,
      "outputs": [
        {
          "output_type": "stream",
          "name": "stderr",
          "text": [
            "[nltk_data] Downloading package stopwords to /root/nltk_data...\n",
            "[nltk_data]   Package stopwords is already up-to-date!\n"
          ]
        },
        {
          "output_type": "execute_result",
          "data": {
            "text/plain": [
              "True"
            ]
          },
          "metadata": {},
          "execution_count": 5
        }
      ]
    },
    {
      "cell_type": "code",
      "source": [
        "print(stopwords.words(\"english\"))"
      ],
      "metadata": {
        "colab": {
          "base_uri": "https://localhost:8080/"
        },
        "id": "qah4hRL0iDYT",
        "outputId": "21d0a05b-3eee-4b33-a11f-fcfb893e42f3"
      },
      "execution_count": 6,
      "outputs": [
        {
          "output_type": "stream",
          "name": "stdout",
          "text": [
            "['i', 'me', 'my', 'myself', 'we', 'our', 'ours', 'ourselves', 'you', \"you're\", \"you've\", \"you'll\", \"you'd\", 'your', 'yours', 'yourself', 'yourselves', 'he', 'him', 'his', 'himself', 'she', \"she's\", 'her', 'hers', 'herself', 'it', \"it's\", 'its', 'itself', 'they', 'them', 'their', 'theirs', 'themselves', 'what', 'which', 'who', 'whom', 'this', 'that', \"that'll\", 'these', 'those', 'am', 'is', 'are', 'was', 'were', 'be', 'been', 'being', 'have', 'has', 'had', 'having', 'do', 'does', 'did', 'doing', 'a', 'an', 'the', 'and', 'but', 'if', 'or', 'because', 'as', 'until', 'while', 'of', 'at', 'by', 'for', 'with', 'about', 'against', 'between', 'into', 'through', 'during', 'before', 'after', 'above', 'below', 'to', 'from', 'up', 'down', 'in', 'out', 'on', 'off', 'over', 'under', 'again', 'further', 'then', 'once', 'here', 'there', 'when', 'where', 'why', 'how', 'all', 'any', 'both', 'each', 'few', 'more', 'most', 'other', 'some', 'such', 'no', 'nor', 'not', 'only', 'own', 'same', 'so', 'than', 'too', 'very', 's', 't', 'can', 'will', 'just', 'don', \"don't\", 'should', \"should've\", 'now', 'd', 'll', 'm', 'o', 're', 've', 'y', 'ain', 'aren', \"aren't\", 'couldn', \"couldn't\", 'didn', \"didn't\", 'doesn', \"doesn't\", 'hadn', \"hadn't\", 'hasn', \"hasn't\", 'haven', \"haven't\", 'isn', \"isn't\", 'ma', 'mightn', \"mightn't\", 'mustn', \"mustn't\", 'needn', \"needn't\", 'shan', \"shan't\", 'shouldn', \"shouldn't\", 'wasn', \"wasn't\", 'weren', \"weren't\", 'won', \"won't\", 'wouldn', \"wouldn't\"]\n"
          ]
        }
      ]
    },
    {
      "cell_type": "code",
      "source": [
        "dataset = pd.read_csv(\"/content/WELFake_Dataset.csv\")"
      ],
      "metadata": {
        "id": "BVV3o79CiMp5"
      },
      "execution_count": 7,
      "outputs": []
    },
    {
      "cell_type": "code",
      "source": [
        "dataset.head()"
      ],
      "metadata": {
        "colab": {
          "base_uri": "https://localhost:8080/",
          "height": 250
        },
        "id": "HO9t-t2qrrU2",
        "outputId": "4cc35bf4-3888-4fef-8377-cc35e23007c4"
      },
      "execution_count": 8,
      "outputs": [
        {
          "output_type": "execute_result",
          "data": {
            "text/plain": [
              "   Unnamed: 0                                              title  \\\n",
              "0           0  LAW ENFORCEMENT ON HIGH ALERT Following Threat...   \n",
              "1           1                                                NaN   \n",
              "2           2  UNBELIEVABLE! OBAMA’S ATTORNEY GENERAL SAYS MO...   \n",
              "3           3  Bobby Jindal, raised Hindu, uses story of Chri...   \n",
              "4           4  SATAN 2: Russia unvelis an image of its terrif...   \n",
              "\n",
              "                                                text  label  \n",
              "0  No comment is expected from Barack Obama Membe...      1  \n",
              "1     Did they post their votes for Hillary already?      1  \n",
              "2   Now, most of the demonstrators gathered last ...      1  \n",
              "3  A dozen politically active pastors came here f...      0  \n",
              "4  The RS-28 Sarmat missile, dubbed Satan 2, will...      1  "
            ],
            "text/html": [
              "\n",
              "  <div id=\"df-b3ed3c9f-5e1b-416d-8a0a-c0146d4464be\">\n",
              "    <div class=\"colab-df-container\">\n",
              "      <div>\n",
              "<style scoped>\n",
              "    .dataframe tbody tr th:only-of-type {\n",
              "        vertical-align: middle;\n",
              "    }\n",
              "\n",
              "    .dataframe tbody tr th {\n",
              "        vertical-align: top;\n",
              "    }\n",
              "\n",
              "    .dataframe thead th {\n",
              "        text-align: right;\n",
              "    }\n",
              "</style>\n",
              "<table border=\"1\" class=\"dataframe\">\n",
              "  <thead>\n",
              "    <tr style=\"text-align: right;\">\n",
              "      <th></th>\n",
              "      <th>Unnamed: 0</th>\n",
              "      <th>title</th>\n",
              "      <th>text</th>\n",
              "      <th>label</th>\n",
              "    </tr>\n",
              "  </thead>\n",
              "  <tbody>\n",
              "    <tr>\n",
              "      <th>0</th>\n",
              "      <td>0</td>\n",
              "      <td>LAW ENFORCEMENT ON HIGH ALERT Following Threat...</td>\n",
              "      <td>No comment is expected from Barack Obama Membe...</td>\n",
              "      <td>1</td>\n",
              "    </tr>\n",
              "    <tr>\n",
              "      <th>1</th>\n",
              "      <td>1</td>\n",
              "      <td>NaN</td>\n",
              "      <td>Did they post their votes for Hillary already?</td>\n",
              "      <td>1</td>\n",
              "    </tr>\n",
              "    <tr>\n",
              "      <th>2</th>\n",
              "      <td>2</td>\n",
              "      <td>UNBELIEVABLE! OBAMA’S ATTORNEY GENERAL SAYS MO...</td>\n",
              "      <td>Now, most of the demonstrators gathered last ...</td>\n",
              "      <td>1</td>\n",
              "    </tr>\n",
              "    <tr>\n",
              "      <th>3</th>\n",
              "      <td>3</td>\n",
              "      <td>Bobby Jindal, raised Hindu, uses story of Chri...</td>\n",
              "      <td>A dozen politically active pastors came here f...</td>\n",
              "      <td>0</td>\n",
              "    </tr>\n",
              "    <tr>\n",
              "      <th>4</th>\n",
              "      <td>4</td>\n",
              "      <td>SATAN 2: Russia unvelis an image of its terrif...</td>\n",
              "      <td>The RS-28 Sarmat missile, dubbed Satan 2, will...</td>\n",
              "      <td>1</td>\n",
              "    </tr>\n",
              "  </tbody>\n",
              "</table>\n",
              "</div>\n",
              "      <button class=\"colab-df-convert\" onclick=\"convertToInteractive('df-b3ed3c9f-5e1b-416d-8a0a-c0146d4464be')\"\n",
              "              title=\"Convert this dataframe to an interactive table.\"\n",
              "              style=\"display:none;\">\n",
              "        \n",
              "  <svg xmlns=\"http://www.w3.org/2000/svg\" height=\"24px\"viewBox=\"0 0 24 24\"\n",
              "       width=\"24px\">\n",
              "    <path d=\"M0 0h24v24H0V0z\" fill=\"none\"/>\n",
              "    <path d=\"M18.56 5.44l.94 2.06.94-2.06 2.06-.94-2.06-.94-.94-2.06-.94 2.06-2.06.94zm-11 1L8.5 8.5l.94-2.06 2.06-.94-2.06-.94L8.5 2.5l-.94 2.06-2.06.94zm10 10l.94 2.06.94-2.06 2.06-.94-2.06-.94-.94-2.06-.94 2.06-2.06.94z\"/><path d=\"M17.41 7.96l-1.37-1.37c-.4-.4-.92-.59-1.43-.59-.52 0-1.04.2-1.43.59L10.3 9.45l-7.72 7.72c-.78.78-.78 2.05 0 2.83L4 21.41c.39.39.9.59 1.41.59.51 0 1.02-.2 1.41-.59l7.78-7.78 2.81-2.81c.8-.78.8-2.07 0-2.86zM5.41 20L4 18.59l7.72-7.72 1.47 1.35L5.41 20z\"/>\n",
              "  </svg>\n",
              "      </button>\n",
              "      \n",
              "  <style>\n",
              "    .colab-df-container {\n",
              "      display:flex;\n",
              "      flex-wrap:wrap;\n",
              "      gap: 12px;\n",
              "    }\n",
              "\n",
              "    .colab-df-convert {\n",
              "      background-color: #E8F0FE;\n",
              "      border: none;\n",
              "      border-radius: 50%;\n",
              "      cursor: pointer;\n",
              "      display: none;\n",
              "      fill: #1967D2;\n",
              "      height: 32px;\n",
              "      padding: 0 0 0 0;\n",
              "      width: 32px;\n",
              "    }\n",
              "\n",
              "    .colab-df-convert:hover {\n",
              "      background-color: #E2EBFA;\n",
              "      box-shadow: 0px 1px 2px rgba(60, 64, 67, 0.3), 0px 1px 3px 1px rgba(60, 64, 67, 0.15);\n",
              "      fill: #174EA6;\n",
              "    }\n",
              "\n",
              "    [theme=dark] .colab-df-convert {\n",
              "      background-color: #3B4455;\n",
              "      fill: #D2E3FC;\n",
              "    }\n",
              "\n",
              "    [theme=dark] .colab-df-convert:hover {\n",
              "      background-color: #434B5C;\n",
              "      box-shadow: 0px 1px 3px 1px rgba(0, 0, 0, 0.15);\n",
              "      filter: drop-shadow(0px 1px 2px rgba(0, 0, 0, 0.3));\n",
              "      fill: #FFFFFF;\n",
              "    }\n",
              "  </style>\n",
              "\n",
              "      <script>\n",
              "        const buttonEl =\n",
              "          document.querySelector('#df-b3ed3c9f-5e1b-416d-8a0a-c0146d4464be button.colab-df-convert');\n",
              "        buttonEl.style.display =\n",
              "          google.colab.kernel.accessAllowed ? 'block' : 'none';\n",
              "\n",
              "        async function convertToInteractive(key) {\n",
              "          const element = document.querySelector('#df-b3ed3c9f-5e1b-416d-8a0a-c0146d4464be');\n",
              "          const dataTable =\n",
              "            await google.colab.kernel.invokeFunction('convertToInteractive',\n",
              "                                                     [key], {});\n",
              "          if (!dataTable) return;\n",
              "\n",
              "          const docLinkHtml = 'Like what you see? Visit the ' +\n",
              "            '<a target=\"_blank\" href=https://colab.research.google.com/notebooks/data_table.ipynb>data table notebook</a>'\n",
              "            + ' to learn more about interactive tables.';\n",
              "          element.innerHTML = '';\n",
              "          dataTable['output_type'] = 'display_data';\n",
              "          await google.colab.output.renderOutput(dataTable, element);\n",
              "          const docLink = document.createElement('div');\n",
              "          docLink.innerHTML = docLinkHtml;\n",
              "          element.appendChild(docLink);\n",
              "        }\n",
              "      </script>\n",
              "    </div>\n",
              "  </div>\n",
              "  "
            ]
          },
          "metadata": {},
          "execution_count": 8
        }
      ]
    },
    {
      "cell_type": "code",
      "source": [
        "dataset.shape"
      ],
      "metadata": {
        "colab": {
          "base_uri": "https://localhost:8080/"
        },
        "id": "J1WbSCCIruVf",
        "outputId": "a8a6f8c6-6a20-4c73-d137-e1ff3826a2c4"
      },
      "execution_count": 9,
      "outputs": [
        {
          "output_type": "execute_result",
          "data": {
            "text/plain": [
              "(72134, 4)"
            ]
          },
          "metadata": {},
          "execution_count": 9
        }
      ]
    },
    {
      "cell_type": "code",
      "source": [
        "dataset.isnull().sum()"
      ],
      "metadata": {
        "colab": {
          "base_uri": "https://localhost:8080/"
        },
        "id": "Hxbv2Qv9ryfu",
        "outputId": "c0fda160-7065-4d05-e2ac-ea45cdad2c1e"
      },
      "execution_count": 10,
      "outputs": [
        {
          "output_type": "execute_result",
          "data": {
            "text/plain": [
              "Unnamed: 0      0\n",
              "title         558\n",
              "text           39\n",
              "label           0\n",
              "dtype: int64"
            ]
          },
          "metadata": {},
          "execution_count": 10
        }
      ]
    },
    {
      "cell_type": "code",
      "source": [
        "dataset = dataset.fillna(\"\")"
      ],
      "metadata": {
        "id": "iCqApDMKr99n"
      },
      "execution_count": 11,
      "outputs": []
    },
    {
      "cell_type": "code",
      "source": [
        "dataset.isnull().sum()"
      ],
      "metadata": {
        "colab": {
          "base_uri": "https://localhost:8080/"
        },
        "id": "b9N6jCFTsNnY",
        "outputId": "d09ded8b-4353-40aa-b96c-018c304e422a"
      },
      "execution_count": 12,
      "outputs": [
        {
          "output_type": "execute_result",
          "data": {
            "text/plain": [
              "Unnamed: 0    0\n",
              "title         0\n",
              "text          0\n",
              "label         0\n",
              "dtype: int64"
            ]
          },
          "metadata": {},
          "execution_count": 12
        }
      ]
    },
    {
      "cell_type": "code",
      "source": [
        "X = dataset.drop(columns='label', axis=1)\n",
        "Y = dataset['label']"
      ],
      "metadata": {
        "id": "UnP_W74WsQCJ"
      },
      "execution_count": 13,
      "outputs": []
    },
    {
      "cell_type": "code",
      "source": [
        "print(X)\n",
        "print(Y)"
      ],
      "metadata": {
        "colab": {
          "base_uri": "https://localhost:8080/"
        },
        "id": "h1XAiGNHsmyB",
        "outputId": "e900e7dd-dc11-414e-af9c-c3e00ae5baae"
      },
      "execution_count": 14,
      "outputs": [
        {
          "output_type": "stream",
          "name": "stdout",
          "text": [
            "       Unnamed: 0                                              title  \\\n",
            "0               0  LAW ENFORCEMENT ON HIGH ALERT Following Threat...   \n",
            "1               1                                                      \n",
            "2               2  UNBELIEVABLE! OBAMA’S ATTORNEY GENERAL SAYS MO...   \n",
            "3               3  Bobby Jindal, raised Hindu, uses story of Chri...   \n",
            "4               4  SATAN 2: Russia unvelis an image of its terrif...   \n",
            "...           ...                                                ...   \n",
            "72129       72129  Russians steal research on Trump in hack of U....   \n",
            "72130       72130   WATCH: Giuliani Demands That Democrats Apolog...   \n",
            "72131       72131  Migrants Refuse To Leave Train At Refugee Camp...   \n",
            "72132       72132  Trump tussle gives unpopular Mexican leader mu...   \n",
            "72133       72133  Goldman Sachs Endorses Hillary Clinton For Pre...   \n",
            "\n",
            "                                                    text  \n",
            "0      No comment is expected from Barack Obama Membe...  \n",
            "1         Did they post their votes for Hillary already?  \n",
            "2       Now, most of the demonstrators gathered last ...  \n",
            "3      A dozen politically active pastors came here f...  \n",
            "4      The RS-28 Sarmat missile, dubbed Satan 2, will...  \n",
            "...                                                  ...  \n",
            "72129  WASHINGTON (Reuters) - Hackers believed to be ...  \n",
            "72130  You know, because in fantasyland Republicans n...  \n",
            "72131  Migrants Refuse To Leave Train At Refugee Camp...  \n",
            "72132  MEXICO CITY (Reuters) - Donald Trump’s combati...  \n",
            "72133  Goldman Sachs Endorses Hillary Clinton For Pre...  \n",
            "\n",
            "[72134 rows x 3 columns]\n",
            "0        1\n",
            "1        1\n",
            "2        1\n",
            "3        0\n",
            "4        1\n",
            "        ..\n",
            "72129    0\n",
            "72130    1\n",
            "72131    0\n",
            "72132    0\n",
            "72133    1\n",
            "Name: label, Length: 72134, dtype: int64\n"
          ]
        }
      ]
    },
    {
      "cell_type": "code",
      "source": [
        "dataset['content'] = dataset['title']+''+dataset['text']"
      ],
      "metadata": {
        "id": "MRfZxGUBxXeW"
      },
      "execution_count": 15,
      "outputs": []
    },
    {
      "cell_type": "code",
      "source": [
        "print(dataset['content'])"
      ],
      "metadata": {
        "colab": {
          "base_uri": "https://localhost:8080/"
        },
        "id": "e3X7ExWSxh8r",
        "outputId": "1d29cce5-0c78-4f30-941c-d1423ec0c123"
      },
      "execution_count": 16,
      "outputs": [
        {
          "output_type": "stream",
          "name": "stdout",
          "text": [
            "0        LAW ENFORCEMENT ON HIGH ALERT Following Threat...\n",
            "1           Did they post their votes for Hillary already?\n",
            "2        UNBELIEVABLE! OBAMA’S ATTORNEY GENERAL SAYS MO...\n",
            "3        Bobby Jindal, raised Hindu, uses story of Chri...\n",
            "4        SATAN 2: Russia unvelis an image of its terrif...\n",
            "                               ...                        \n",
            "72129    Russians steal research on Trump in hack of U....\n",
            "72130     WATCH: Giuliani Demands That Democrats Apolog...\n",
            "72131    Migrants Refuse To Leave Train At Refugee Camp...\n",
            "72132    Trump tussle gives unpopular Mexican leader mu...\n",
            "72133    Goldman Sachs Endorses Hillary Clinton For Pre...\n",
            "Name: content, Length: 72134, dtype: object\n"
          ]
        }
      ]
    },
    {
      "cell_type": "code",
      "source": [
        "# port_stem = PorterStemmer()"
      ],
      "metadata": {
        "id": "obqP4x8tsvyC"
      },
      "execution_count": 17,
      "outputs": []
    },
    {
      "cell_type": "code",
      "source": [
        "# # error maaybe present here\n",
        "# def stemming(content):\n",
        "#   stemmed_content = re.sub('[^a-zA-Z]','', content)\n",
        "#   stemmed_content = stemmed_content.lower()\n",
        "#   stemmed_content = stemmed_content.split()\n",
        "#   stemmed_content = [port_stem.stem(word) for word in stemmed_content if not word in stopwords.words('english')]\n",
        "#   stemmed_content = ''.join(stemmed_content)\n",
        "#   return stemmed_content"
      ],
      "metadata": {
        "id": "daKj5xYBs-Fa"
      },
      "execution_count": 18,
      "outputs": []
    },
    {
      "cell_type": "code",
      "source": [
        "# dataset['content'] = dataset['content'].apply(stemming)"
      ],
      "metadata": {
        "id": "evi_yok9tOC6"
      },
      "execution_count": 19,
      "outputs": []
    },
    {
      "cell_type": "code",
      "source": [
        "print(dataset['content'])"
      ],
      "metadata": {
        "colab": {
          "base_uri": "https://localhost:8080/"
        },
        "id": "gOYDexDRv0Xi",
        "outputId": "dcc33d68-8c9c-4bd6-925d-5cf5aa2090d4"
      },
      "execution_count": 20,
      "outputs": [
        {
          "output_type": "stream",
          "name": "stdout",
          "text": [
            "0        LAW ENFORCEMENT ON HIGH ALERT Following Threat...\n",
            "1           Did they post their votes for Hillary already?\n",
            "2        UNBELIEVABLE! OBAMA’S ATTORNEY GENERAL SAYS MO...\n",
            "3        Bobby Jindal, raised Hindu, uses story of Chri...\n",
            "4        SATAN 2: Russia unvelis an image of its terrif...\n",
            "                               ...                        \n",
            "72129    Russians steal research on Trump in hack of U....\n",
            "72130     WATCH: Giuliani Demands That Democrats Apolog...\n",
            "72131    Migrants Refuse To Leave Train At Refugee Camp...\n",
            "72132    Trump tussle gives unpopular Mexican leader mu...\n",
            "72133    Goldman Sachs Endorses Hillary Clinton For Pre...\n",
            "Name: content, Length: 72134, dtype: object\n"
          ]
        }
      ]
    },
    {
      "cell_type": "code",
      "source": [
        "X = dataset['content'].values\n",
        "Y = dataset['label'].values"
      ],
      "metadata": {
        "id": "5a-Nt6rrv-2d"
      },
      "execution_count": 21,
      "outputs": []
    },
    {
      "cell_type": "code",
      "source": [
        "print(X)"
      ],
      "metadata": {
        "colab": {
          "base_uri": "https://localhost:8080/"
        },
        "id": "_r0CkclzwzrF",
        "outputId": "07db9e2b-ddce-43cf-ae70-4fed26f8f4d9"
      },
      "execution_count": 22,
      "outputs": [
        {
          "output_type": "stream",
          "name": "stdout",
          "text": [
            "['LAW ENFORCEMENT ON HIGH ALERT Following Threats Against Cops And Whites On 9-11By #BlackLivesMatter And #FYF911 Terrorists [VIDEO]No comment is expected from Barack Obama Members of the #FYF911 or #FukYoFlag and #BlackLivesMatter movements called for the lynching and hanging of white people and cops. They encouraged others on a radio show Tuesday night to  turn the tide  and kill white people and cops to send a message about the killing of black people in America.One of the F***YoFlag organizers is called  Sunshine.  She has a radio blog show hosted from Texas called,  Sunshine s F***ing Opinion Radio Show. A snapshot of her #FYF911 @LOLatWhiteFear Twitter page at 9:53 p.m. shows that she was urging supporters to  Call now!! #fyf911 tonight we continue to dismantle the illusion of white Below is a SNAPSHOT Twitter Radio Call Invite   #FYF911The radio show aired at 10:00 p.m. eastern standard time.During the show, callers clearly call for  lynching  and  killing  of white people.A 2:39 minute clip from the radio show can be heard here. It was provided to Breitbart Texas by someone who would like to be referred to as  Hannibal.  He has already received death threats as a result of interrupting #FYF911 conference calls.An unidentified black man said  when those mother f**kers are by themselves, that s when when we should start f***ing them up. Like they do us, when a bunch of them ni**ers takin  one of us out, that s how we should roll up.  He said,  Cause we already roll up in gangs anyway. There should be six or seven black mother f**ckers, see that white person, and then lynch their ass. Let s turn the tables. They conspired that if  cops started losing people,  then  there will be a state of emergency. He speculated that one of two things would happen,  a big-ass [R s?????] war,  or  ni**ers, they are going to start backin  up. We are already getting killed out here so what the f**k we got to lose? Sunshine could be heard saying,  Yep, that s true. That s so f**king true. He said,  We need to turn the tables on them. Our kids are getting shot out here. Somebody needs to become a sacrifice on their side.He said,  Everybody ain t down for that s**t, or whatever, but like I say, everybody has a different position of war.  He continued,  Because they don t give a f**k anyway.  He said again,  We might as well utilized them for that s**t and turn the tables on these n**ers. He said, that way  we can start lookin  like we ain t havin  that many casualties, and there can be more causalities on their side instead of ours. They are out their killing black people, black lives don t matter, that s what those mother f**kers   so we got to make it matter to them. Find a mother f**ker that is alone. Snap his ass, and then f***in hang him from a damn tree. Take a picture of it and then send it to the mother f**kers. We  just need one example,  and  then people will start watchin .  This will turn the tables on s**t, he said. He said this will start  a trickle-down effect.  He said that when one white person is hung and then they are just  flat-hanging,  that will start the  trickle-down effect.  He continued,  Black people are good at starting trends. He said that was how  to get the upper-hand. Another black man spoke up saying they needed to kill  cops that are killing us. The first black male said,  That will be the best method right there. Breitbart Texas previously reported how Sunshine was upset when  racist white people  infiltrated and disrupted one of her conference calls. She subsequently released the phone number of one of the infiltrators. The veteran immediately started receiving threatening calls.One of the #F***YoFlag movement supporters allegedly told a veteran who infiltrated their publicly posted conference call,  We are going to rape and gut your pregnant wife, and your f***ing piece of sh*t unborn creature will be hung from a tree. Breitbart Texas previously encountered Sunshine at a Sandra Bland protest at the Waller County Jail in Texas, where she said all white people should be killed. She told journalists and photographers,  You see this nappy-ass hair on my head?   That means I am one of those more militant Negroes.  She said she was at the protest because  these redneck mother-f**kers murdered Sandra Bland because she had nappy hair like me. #FYF911 black radicals say they will be holding the  imperial powers  that are actually responsible for the terrorist attacks on September 11th accountable on that day, as reported by Breitbart Texas. There are several websites and Twitter handles for the movement. Palmetto Star  describes himself as one of the head organizers. He said in a YouTube video that supporters will be burning their symbols of  the illusion of their superiority,  their  false white supremacy,  like the American flag, the British flag, police uniforms, and Ku Klux Klan hoods.Sierra McGrone or  Nocturnus Libertus  posted,  you too can help a young Afrikan clean their a** with the rag of oppression.  She posted two photos, one that appears to be herself, and a photo of a black man, wiping their naked butts with the American flag.For entire story: Breitbart News'\n",
            " 'Did they post their votes for Hillary already?'\n",
            " 'UNBELIEVABLE! OBAMA’S ATTORNEY GENERAL SAYS MOST CHARLOTTE RIOTERS WERE “PEACEFUL” PROTESTERS…In Her Home State Of North Carolina [VIDEO] Now, most of the demonstrators gathered last night were exercising their constitutional and protected right to peaceful protest in order to raise issues and create change.    Loretta Lynch aka Eric Holder in a skirt'\n",
            " ...\n",
            " 'Migrants Refuse To Leave Train At Refugee Camp In HungaryMigrants Refuse To Leave Train At Refugee Camp In Hungary\\n\\nThousands of migrants flooded into a train station in the Hungarian capital Thursday after police lifted a two-day blockade, but some who boarded a train they thought was going to Germany ended up instead at a refugee camp just miles from Budapest.\\n\\nThe Associated Press reports that \"excited migrants piled into a newly arrived train at the Keleti station in Hungary\\'s capital despite announcements in Hungarian and English that all services from the station to Western Europe had been canceled. A statement on the main departures board said no more trains to Austria or Germany would depart \\'due to safety reasons until further notice!\\'\\n\\n\"Many migrants, who couldn\\'t understand either language and were receiving no advice from Hungarian officials, scrambled aboard in a standing-room-only crush and hoped for the best,\" the AP said.\\n\\nScuffles broke out when police ordered the passengers off the train at Bicske, according to the BBC.\\n\\nMeanwhile, Hungary\\'s prime minister says his country is doing all it can to manage a growing migrant crisis, even as European officials said they will meet this month in Brussels to discuss an effort to \"strengthen the European response\" to the situation.\\n\\nViktor Orban said the influx of refugees into his country is really \"a German problem\" because that is the intended destination for most of them. Hungarians, along with other Europeans, are \"full of fear\" he says, because \"they see that the European leaders, among them the prime ministers, are not able to control the situation.\"\\n\\n\"If we would create an image ... just come because we are ready to accept everybody, that would be a moral failure, because that is not the case,\" Orban said after a meeting with European Parliament President Martin Schulz, according to The Washington Post. \"The moral human thing is to make clear, please don\\'t come. Why do you have to go from Turkey to Europe? Turkey is a safe country. Stay there. It\\'s risky to come.\"\\n\\nMeanwhile, Voice of America reports that British, French and German officials have called for urgent action and plan to hold talks on Sept. 14 in Brussels to address the crisis.\\n\\nVOA reports: \"The three ministers also called for better processing of migrants in Italy and Greece.\"\\n\\nAs we\\'ve reported, the United Nations believes that more than 300,000 migrants have set out for Europe from North Africa and the Middle East on the Mediterranean Sea so far this year, a 40 percent increase on all of last year.\\n\\nAs NPR\\'s Middle East editor Larry Kaplow writes: \"On any given day now, hundreds of people, perhaps thousands, are drifting in ships or clinging to boats that are little more than inflatable rafts. They go in other ways, too. Jumping fences in Morocco to get to Spanish territory. Cramming into trucks from Turkey. Riding trains across Europe.\"'\n",
            " 'Trump tussle gives unpopular Mexican leader much-needed shot in armMEXICO CITY (Reuters) - Donald Trump’s combative style has buffeted Mexico’s president for months, but deeply unpopular Enrique Pena Nieto may end up thanking the new U.S. president for prompting offended Mexicans to rally behind their leader.  From billionaire business magnate Carlos Slim to political opponents, there has been a groundswell of support for Pena Nieto, who has cut a lonely figure in months of bruising encounters with Trump. Often referred to by his initials EPN, Pena Nieto is laboring under the worst approval ratings of any Mexican president in decades due to discontent over corruption, gang violence, sluggish growth and a jump in fuel prices.     Trump’s threats to scrap the NAFTA trade deal with Mexico and build a border wall have caused anger and left Mexicans feeling fearful for the future. His challenge to Pena Nieto on Thursday - saying he should skip a planned summit between the two leaders if Mexico wasn’t willing to pay for the wall - was the final straw. Pena Nieto replied a couple of hours later that he had canceled his meeting with Trump, one of the president’s biggest ever hits on Twitter, getting more “likes” than when he personally broke news of the capture of notorious drug lord Joaquin “El Chapo” Guzman in January of last year. “Bravo EPN!,” cheered former President Vicente Fox, who had initially condemned Pena Nieto for inviting Trump to Mexico for talks last August, and who has waged a colorful and expletive-ridden campaign against the Republican on Twitter. Pena Nieto and Trump talked for about an hour by phone on Friday, pledging to work out their differences and agreeing not to speak about the wall in public for now. Meanwhile, calls for unity grew in Mexico, led by Slim, a normally media-shy 76-year-old who gave a 90-minute news conference in support of the government on Friday. “This is the most surprising example of national unity I’ve seen in my life,” said Slim, who spent several years in the past decade as the world’s richest man. “We have to back the president of Mexico so he can defend our national interests.” Senior opposition leaders also urged a common front. “It’s time to show unity and our commitment to Mexico,” Alejandra Barrales, head of the center-left Party of the Democratic Revolution (PRD), said on Twitter. Pena Nieto’s credibility has been battered by a widespread public perception that he has failed to battle corruption and indeed even encouraged it since a conflict-of-interest row embroiled him, his wife and a top minister in late 2014. Some opposition critics fear the government will try to use Trump as a screen to distract from its failings. However, two senior officials told Reuters they hoped Pena Nieto would seize the moment to act quickly and decisively to improve his image. Expressions of dismay at Trump’s behavior towards Mexico have almost become a national pastime, and talk of boycotts against U.S. companies is gathering steam on social media. Slim, when asked about boycotting at his news conference, said it wasn’t a good idea to turn on U.S. companies, which are creating jobs in Mexico. Some foreign companies voiced support for Mexico too. “I feel Mexico is being subjected to terror at the moment,” said Andreas Schindler, co-owner of German fruit wholesaler Don Limon’s parent Pilz Schindler, by phone from Hamburg. “We’re right behind Mexico.” '\n",
            " 'Goldman Sachs Endorses Hillary Clinton For PresidentGoldman Sachs Endorses Hillary Clinton For President For Goldman Sachs, was there really any other choice this cycle? | October 27, 2016 Be Sociable, Share! Lloyd Blankfein, CEO of Goldman Sachs, is greeted by Hillary Clinton at a panel discussion at the Clinton Global Initiative, Sept. 24, 2014 in New York. \\nPublished in partnership with Shadowproof . \\nHe’s with her. On Sunday, former Secretary of State Hillary Clinton earned the endorsement of Goldman Sachs CEO Lloyd Blankfein —an endorsement she had been working toward for years. \\nAs was revealed by Wikileaks, Hillary Clinton spent the run up to her presidential campaign giving speeches to Goldman Sachs and other Wall Street banks, where she praised their talents and explained her positions on financial regulation. \\nOn October 24, 2013, Clinton told Goldman Sachs that Dodd-Frank had to be done mostly for “political reasons” because Congress needed to look like it was doing something about the crisis. She said, “There’s nothing magic about regulations, too much is bad, too little is bad. How do you get to the golden key, how do we figure out what works? And the people that know the industry better than anybody are the people who work in the industry.” \\nYes, she essentially endorsed Wall Street writing the rules because Wall Street knows its business best and complained to Goldman Sachs that regulations had frightened bankers. \\n“I mean, right now, there are so many places in our country where the banks are not doing what they need to do because they’re scared of regulations, they’re scared of the other shoe dropping, they’re just plain scared, so credit is not flowing the way it needs to to restart economic growth,” Clinton said. “So people are, you know, a little — they’re still uncertain, and they’re uncertain both because they don’t know what might come next in terms of regulations, but they’re also uncertain because of changes in a global economy that we’re only beginning to take hold of.” \\nMusic to Wall Street’s ears. For Goldman Sachs, was there really any other choice this cycle? After all, they did pay Hillary Clinton $675,000 for those three speeches, and have generously supported her political career. \\nDespite her private comments to Goldman Sachs, Hillary Clinton has taken a tough public position on Wall Street during the campaign, likely due to Senator Bernie Sanders’ success in the primaries. Of course, Wikileaks also revealed that Clinton told the National Multi-housing Council in a private speech that “you need both a public and a private position.” \\nSo the real question is, what do Blankfein and Goldman want in return and what is Clinton’s private position on giving it to them? Be Sociable, Share!']\n"
          ]
        }
      ]
    },
    {
      "cell_type": "code",
      "source": [
        "print(Y)"
      ],
      "metadata": {
        "colab": {
          "base_uri": "https://localhost:8080/"
        },
        "id": "W-IyYYg2w7wv",
        "outputId": "761a2f9d-36bd-416d-ed56-a13ebe10aea9"
      },
      "execution_count": 23,
      "outputs": [
        {
          "output_type": "stream",
          "name": "stdout",
          "text": [
            "[1 1 1 ... 0 0 1]\n"
          ]
        }
      ]
    },
    {
      "cell_type": "code",
      "source": [
        "Y.shape"
      ],
      "metadata": {
        "colab": {
          "base_uri": "https://localhost:8080/"
        },
        "id": "dAod2DAJx7FV",
        "outputId": "24add1b4-6130-4355-ce71-ccfc38269e21"
      },
      "execution_count": 24,
      "outputs": [
        {
          "output_type": "execute_result",
          "data": {
            "text/plain": [
              "(72134,)"
            ]
          },
          "metadata": {},
          "execution_count": 24
        }
      ]
    },
    {
      "cell_type": "code",
      "source": [
        "X.shape"
      ],
      "metadata": {
        "colab": {
          "base_uri": "https://localhost:8080/"
        },
        "id": "1iw94x5vx9Zn",
        "outputId": "cd90ad02-de12-4e8b-e331-e8bad05dd9d1"
      },
      "execution_count": 25,
      "outputs": [
        {
          "output_type": "execute_result",
          "data": {
            "text/plain": [
              "(72134,)"
            ]
          },
          "metadata": {},
          "execution_count": 25
        }
      ]
    },
    {
      "cell_type": "code",
      "source": [
        "vectorizer = TfidfVectorizer()\n",
        "vectorizer.fit(X)\n",
        "\n",
        "X = vectorizer.transform(X)"
      ],
      "metadata": {
        "id": "-a0YLEbcx_VV"
      },
      "execution_count": 26,
      "outputs": []
    },
    {
      "cell_type": "code",
      "source": [
        "print(X)"
      ],
      "metadata": {
        "colab": {
          "base_uri": "https://localhost:8080/"
        },
        "id": "Hhd3nRSf8f75",
        "outputId": "c1dfef90-eb5b-449b-e491-108017db70c6"
      },
      "execution_count": 27,
      "outputs": [
        {
          "output_type": "stream",
          "name": "stdout",
          "text": [
            "  (0, 245604)\t0.02224944590381374\n",
            "  (0, 245539)\t0.028008116882150193\n",
            "  (0, 245508)\t0.018077122870620133\n",
            "  (0, 245463)\t0.019092683132846493\n",
            "  (0, 245273)\t0.11738008619729111\n",
            "  (0, 244893)\t0.03804410133660806\n",
            "  (0, 242646)\t0.01676774070498498\n",
            "  (0, 241489)\t0.012490433197262528\n",
            "  (0, 241222)\t0.038464052228729846\n",
            "  (0, 240721)\t0.07542821077720792\n",
            "  (0, 240511)\t0.01977722702353259\n",
            "  (0, 240204)\t0.014878951990629195\n",
            "  (0, 240126)\t0.028506413162765833\n",
            "  (0, 240059)\t0.11146335868484777\n",
            "  (0, 239876)\t0.011615255129603026\n",
            "  (0, 239867)\t0.05378636423674954\n",
            "  (0, 239782)\t0.02140999726844785\n",
            "  (0, 239773)\t0.01798105976669477\n",
            "  (0, 239198)\t0.012188999722213545\n",
            "  (0, 238734)\t0.029745467230579997\n",
            "  (0, 238518)\t0.10693991434347527\n",
            "  (0, 238334)\t0.011987595799306123\n",
            "  (0, 238110)\t0.056619525448983646\n",
            "  (0, 237933)\t0.033811389163212566\n",
            "  (0, 237582)\t0.029816788439999044\n",
            "  :\t:\n",
            "  (72133, 29925)\t0.031758613114116284\n",
            "  (72133, 29789)\t0.012513839958900761\n",
            "  (72133, 29575)\t0.07940329422269916\n",
            "  (72133, 29344)\t0.030991424144315972\n",
            "  (72133, 27733)\t0.07340329418310505\n",
            "  (72133, 27699)\t0.04573156116604947\n",
            "  (72133, 26656)\t0.05443805404623871\n",
            "  (72133, 23838)\t0.02078431016581248\n",
            "  (72133, 22866)\t0.009936664937381948\n",
            "  (72133, 21852)\t0.043923980489891365\n",
            "  (72133, 20478)\t0.03804876750698788\n",
            "  (72133, 20472)\t0.03252865124745074\n",
            "  (72133, 18999)\t0.07408640708189515\n",
            "  (72133, 18767)\t0.010690701076655425\n",
            "  (72133, 17488)\t0.027236128987801728\n",
            "  (72133, 16867)\t0.01333379904944098\n",
            "  (72133, 14478)\t0.012995906119635059\n",
            "  (72133, 11807)\t0.024222989984674165\n",
            "  (72133, 8858)\t0.05981858182721511\n",
            "  (72133, 5862)\t0.03178292242279875\n",
            "  (72133, 5665)\t0.06197570424983755\n",
            "  (72133, 3018)\t0.019503145888691314\n",
            "  (72133, 2847)\t0.02690513400972183\n",
            "  (72133, 2820)\t0.02926718725813195\n",
            "  (72133, 1)\t0.02140847273579564\n"
          ]
        }
      ]
    },
    {
      "cell_type": "code",
      "source": [
        "X_train, X_test, Y_train, Y_test = train_test_split(X, Y, test_size = 0.2, stratify = Y, random_state=2)"
      ],
      "metadata": {
        "id": "k9Nwt_4t8iH_"
      },
      "execution_count": 28,
      "outputs": []
    },
    {
      "cell_type": "code",
      "source": [
        "model = LogisticRegression()"
      ],
      "metadata": {
        "id": "drOw6_ZL9FY1"
      },
      "execution_count": 29,
      "outputs": []
    },
    {
      "cell_type": "code",
      "source": [
        "model.fit(X_train, Y_train)"
      ],
      "metadata": {
        "colab": {
          "base_uri": "https://localhost:8080/"
        },
        "id": "of7qNTEu9t35",
        "outputId": "36d73a11-ed27-41a1-970c-9611be272ef8"
      },
      "execution_count": 30,
      "outputs": [
        {
          "output_type": "execute_result",
          "data": {
            "text/plain": [
              "LogisticRegression()"
            ]
          },
          "metadata": {},
          "execution_count": 30
        }
      ]
    },
    {
      "cell_type": "code",
      "source": [
        "X_train_prediction = model.predict(X_train)\n",
        "training_data_accuracy = accuracy_score(X_train_prediction, Y_train)"
      ],
      "metadata": {
        "id": "OBZd9GUx9ysV"
      },
      "execution_count": 31,
      "outputs": []
    },
    {
      "cell_type": "code",
      "source": [
        "print(training_data_accuracy)"
      ],
      "metadata": {
        "colab": {
          "base_uri": "https://localhost:8080/"
        },
        "id": "htvwTAB5-atS",
        "outputId": "acc0d9cd-2e5c-4b6c-f43f-459a1d387053"
      },
      "execution_count": 32,
      "outputs": [
        {
          "output_type": "stream",
          "name": "stdout",
          "text": [
            "0.9637132410279515\n"
          ]
        }
      ]
    },
    {
      "cell_type": "code",
      "source": [
        "X_test_prediction = model.predict(X_test)\n",
        "testing_data_accuracy = accuracy_score(X_test_prediction, Y_test)"
      ],
      "metadata": {
        "id": "u8JS9y6A-fdU"
      },
      "execution_count": 33,
      "outputs": []
    },
    {
      "cell_type": "code",
      "source": [
        "print(testing_data_accuracy)"
      ],
      "metadata": {
        "colab": {
          "base_uri": "https://localhost:8080/"
        },
        "id": "Sg0tCavl_p8Q",
        "outputId": "1bf4a2c2-3c6b-4899-8c6b-93ccf58267e0"
      },
      "execution_count": 34,
      "outputs": [
        {
          "output_type": "stream",
          "name": "stdout",
          "text": [
            "0.9480834546336729\n"
          ]
        }
      ]
    },
    {
      "cell_type": "code",
      "source": [
        "X_new = X_test[0]\n",
        "prediction = model.predict(X_new)\n",
        "print(prediction)\n",
        "\n",
        "if(prediction[0]==0):\n",
        "  print(\"the news is real\")\n",
        "else:\n",
        "  print(\"the news is fake\")\n",
        "\n"
      ],
      "metadata": {
        "colab": {
          "base_uri": "https://localhost:8080/"
        },
        "id": "-OWGaLXY_r9S",
        "outputId": "34017b43-6e8a-4938-c3f0-4ab0b512c122"
      },
      "execution_count": 35,
      "outputs": [
        {
          "output_type": "stream",
          "name": "stdout",
          "text": [
            "[1]\n",
            "the news is fake\n"
          ]
        }
      ]
    },
    {
      "cell_type": "code",
      "source": [
        "print(Y_test[0])"
      ],
      "metadata": {
        "colab": {
          "base_uri": "https://localhost:8080/"
        },
        "id": "jlHJkJxqQPU5",
        "outputId": "1336822c-ac20-4540-9f72-4094964c29fd"
      },
      "execution_count": 36,
      "outputs": [
        {
          "output_type": "stream",
          "name": "stdout",
          "text": [
            "1\n"
          ]
        }
      ]
    },
    {
      "cell_type": "code",
      "source": [
        "X_new = X_test[1]\n",
        "prediction = model.predict(X_new)\n",
        "print(prediction)\n",
        "\n",
        "if(prediction[0]==0):\n",
        "  print(\"the news is real\")\n",
        "else:\n",
        "  print(\"the news is fake\")\n",
        "\n"
      ],
      "metadata": {
        "colab": {
          "base_uri": "https://localhost:8080/"
        },
        "id": "LpkM6kUNQag6",
        "outputId": "28fd85c0-1e8f-4d78-f759-8a779e929998"
      },
      "execution_count": 38,
      "outputs": [
        {
          "output_type": "stream",
          "name": "stdout",
          "text": [
            "[0]\n",
            "the news is real\n"
          ]
        }
      ]
    },
    {
      "cell_type": "code",
      "source": [
        "print(Y_test[1])"
      ],
      "metadata": {
        "colab": {
          "base_uri": "https://localhost:8080/"
        },
        "id": "30qQMnIJQgHv",
        "outputId": "af5ba71d-ac8e-4bad-f212-2df8a7de4488"
      },
      "execution_count": 39,
      "outputs": [
        {
          "output_type": "stream",
          "name": "stdout",
          "text": [
            "0\n"
          ]
        }
      ]
    },
    {
      "cell_type": "code",
      "source": [],
      "metadata": {
        "id": "aDHB_zmjQj8D"
      },
      "execution_count": null,
      "outputs": []
    }
  ]
}